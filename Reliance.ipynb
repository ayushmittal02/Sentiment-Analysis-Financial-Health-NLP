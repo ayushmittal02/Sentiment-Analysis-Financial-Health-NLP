{
 "cells": [
  {
   "cell_type": "markdown",
   "metadata": {},
   "source": [
    "# Sentimental Analysis of the Financial Reports"
   ]
  },
  {
   "cell_type": "markdown",
   "metadata": {},
   "source": [
    "This module uses Annual Report of 'HDFC', 'Hindustan Unilever', 'Infosys', 'Kotak', 'Reliance' and 'TCS' that are publicly listed companies and analyses the management's discussion section. This section of the report if written with a negative sentiment shows the performance is going down. The dictionary used is Loughran-McDonald words dictionary because the standard NLTK dictionary does not hold true in case of finance due to different contextual meaning.\n",
    "\n",
    "The process is as follows:\n",
    "1. Read the MD&A from an annual report and tokenize the same\n",
    "2. Remove stop words such as and, of, the, etc.\n",
    "3. Importing Loughran-McDonald dictionaries and separating the words into positive and negative words\n",
    "4. Calculating overall sentiment score\n",
    "\n",
    "The analysis can be easily reproduced for other firms to check their sentiment using this approach"
   ]
  },
  {
   "cell_type": "markdown",
   "metadata": {},
   "source": [
    "## Reliance (RIL)"
   ]
  },
  {
   "cell_type": "code",
   "execution_count": 1,
   "metadata": {},
   "outputs": [],
   "source": [
    "import nltk\n",
    "from nltk.tokenize import RegexpTokenizer\n",
    "import re"
   ]
  },
  {
   "cell_type": "markdown",
   "metadata": {},
   "source": [
    "### 2015-16"
   ]
  },
  {
   "cell_type": "code",
   "execution_count": 2,
   "metadata": {},
   "outputs": [
    {
     "name": "stdout",
     "output_type": "stream",
     "text": [
      "Total words in the Reliance 2015-16 report are 2026\n"
     ]
    }
   ],
   "source": [
    "'''\n",
    "Reliance in 2015-16\n",
    "'''\n",
    "\n",
    "with open (\"ril_2015_16.txt\", encoding=\"utf8\", errors='ignore') as f:\n",
    "    tokens_old = nltk.word_tokenize(f.read())\n",
    "    \n",
    "no_digit = re.compile('.*[A-Za-z].*')\n",
    "tokens = [w for w in tokens_old if no_digit.match(w)]\n",
    "tokens = list(map(lambda x: x.lower(),tokens))\n",
    "print(\"Total words in the Reliance 2015-16 report are {0}\".format(len(tokens)))"
   ]
  },
  {
   "cell_type": "code",
   "execution_count": 3,
   "metadata": {},
   "outputs": [
    {
     "name": "stdout",
     "output_type": "stream",
     "text": [
      "Stop words are ['the', 'and', 'to', 'of', 'in', 'our', 'for', 'reliance', 'we', 'a']\n"
     ]
    }
   ],
   "source": [
    "fdist = nltk.FreqDist(tokens)\n",
    "stop = []\n",
    "for word, frequency in fdist.most_common(10):\n",
    "    stop.append(word)\n",
    "print(\"Stop words are {0}\".format(stop))"
   ]
  },
  {
   "cell_type": "code",
   "execution_count": 4,
   "metadata": {},
   "outputs": [
    {
     "name": "stdout",
     "output_type": "stream",
     "text": [
      "504\n"
     ]
    }
   ],
   "source": [
    "count = 0\n",
    "for word in tokens:\n",
    "    if word in stop:\n",
    "        count += 1\n",
    "print(count)"
   ]
  },
  {
   "cell_type": "code",
   "execution_count": 5,
   "metadata": {},
   "outputs": [],
   "source": [
    "'''\n",
    "The stopwords do not have 'no', 'not' and 'never' in them\n",
    "So, directly removing these words in the next step\n",
    "'''\n",
    "final_tokens = [x for x in tokens if x not in stop]\n",
    "total_tokens = len(final_tokens)"
   ]
  },
  {
   "cell_type": "code",
   "execution_count": 6,
   "metadata": {},
   "outputs": [
    {
     "name": "stdout",
     "output_type": "stream",
     "text": [
      "\n",
      "Total positive words are 53\n",
      "Positive words are: \n",
      "['progress', 'smooth', 'despite', 'strong', 'strong', 'highest', 'strong', 'surpassing', 'enabled', 'strong', 'despite', 'highest', 'outperformed', 'benefited', 'benefited', 'able', 'advantaged', 'achieve', 'superior', 'progress', 'enhance', 'progress', 'successfully', 'benefit', 'advantages', 'confident', 'effective', 'superior', 'empowered', 'enable', 'enabled', 'innovative', 'empowering', 'leadership', 'superior', 'progress', 'enabled', 'encouraging', 'empowering', 'progress', 'enjoys', 'strong', 'unparalleled', 'successfully', 'innovative', 'highest', 'better', 'enable', 'empower', 'enhance', 'positively', 'outstanding', 'success']\n",
      "\n",
      "Total negative words are 14\n",
      "Negative words are: \n",
      "['oversupply', 'challenges', 'slow', 'poor', 'contraction', 'weak', 'against', 'challenging', 'turbulence', 'challenging', 'cut', 'decline', 'challenges', 'calamities']\n"
     ]
    }
   ],
   "source": [
    "# Source: https://sraf.nd.edu/textual-analysis/resources/\n",
    "# This source provides Loughran-McDonald Sentiment word lists for finance\n",
    "lm_neg = open(\"LM_neg_words.txt\").read().lower()\n",
    "lm_pos = open(\"LM_pos_words.txt\").read().lower()\n",
    "\n",
    "li_neg = lm_neg.split('\\n')\n",
    "li_pos = lm_pos.split('\\n')\n",
    "\n",
    "checking = {}\n",
    "checking['positive'] = li_pos\n",
    "checking['negative'] = li_neg\n",
    "\n",
    "result_pos = []\n",
    "result_neg = []\n",
    "for word in final_tokens:\n",
    "    if word in checking['positive']:\n",
    "        result_pos.append(word)\n",
    "    elif word in checking['negative']:\n",
    "        result_neg.append(word)\n",
    "\n",
    "print()\n",
    "print(\"Total positive words are {0}\".format(len(result_pos)))\n",
    "print('Positive words are: ')\n",
    "print(result_pos)\n",
    "print()\n",
    "print(\"Total negative words are {0}\".format(len(result_neg)))\n",
    "print('Negative words are: ')\n",
    "print(result_neg)"
   ]
  },
  {
   "cell_type": "code",
   "execution_count": 7,
   "metadata": {},
   "outputs": [
    {
     "name": "stdout",
     "output_type": "stream",
     "text": [
      "\n",
      "Reliance's total sentiment in 2015-16 is : 0.025624178712220762\n"
     ]
    }
   ],
   "source": [
    "'''\n",
    "Calculating\n",
    "(positive words - negative words)/total words\n",
    "'''\n",
    "\n",
    "pos = len(result_pos)\n",
    "neg = len(result_neg)\n",
    "\n",
    "sentiment = (pos-neg)/total_tokens\n",
    "print()\n",
    "print(\"Reliance's total sentiment in 2015-16 is : {0}\".format(sentiment))"
   ]
  },
  {
   "cell_type": "markdown",
   "metadata": {},
   "source": [
    "### 2016-17"
   ]
  },
  {
   "cell_type": "code",
   "execution_count": 8,
   "metadata": {},
   "outputs": [
    {
     "name": "stdout",
     "output_type": "stream",
     "text": [
      "Total words in the Reliance 2016-17 report are 2275\n"
     ]
    }
   ],
   "source": [
    "'''\n",
    "Reliance 2016-17\n",
    "'''\n",
    "\n",
    "with open (\"ril_2016_17.txt\", encoding=\"utf8\", errors='ignore') as f2:\n",
    "    tokens_old = nltk.word_tokenize(f2.read())\n",
    "    \n",
    "no_digit2 = re.compile('.*[A-Za-z].*')\n",
    "tokens2 = [w for w in tokens_old if no_digit2.match(w)]\n",
    "tokens2 = list(map(lambda x: x.lower(),tokens2))\n",
    "print(\"Total words in the Reliance 2016-17 report are {0}\".format(len(tokens2)))"
   ]
  },
  {
   "cell_type": "code",
   "execution_count": 9,
   "metadata": {},
   "outputs": [
    {
     "name": "stdout",
     "output_type": "stream",
     "text": [
      "Stop words are ['the', 'and', 'in', 'to', 'of', 'our', 'a', 'for', 'has', 'by']\n"
     ]
    }
   ],
   "source": [
    "fdist = nltk.FreqDist(tokens2)\n",
    "stop2 = []\n",
    "for word, frequency in fdist.most_common(10):\n",
    "    stop2.append(word)\n",
    "print(\"Stop words are {0}\".format(stop2))"
   ]
  },
  {
   "cell_type": "code",
   "execution_count": 10,
   "metadata": {},
   "outputs": [
    {
     "name": "stdout",
     "output_type": "stream",
     "text": [
      "567\n"
     ]
    }
   ],
   "source": [
    "count = 0\n",
    "for word in tokens2:\n",
    "    if word in stop2:\n",
    "        count += 1\n",
    "print(count)"
   ]
  },
  {
   "cell_type": "code",
   "execution_count": 11,
   "metadata": {},
   "outputs": [],
   "source": [
    "'''\n",
    "The stopwords do not have 'no', 'not' and 'never' in them\n",
    "So, directly removing these words in the next step\n",
    "'''\n",
    "final_tokens2 = [x for x in tokens2 if x not in stop2]\n",
    "total_tokens2 = len(final_tokens2)"
   ]
  },
  {
   "cell_type": "code",
   "execution_count": 12,
   "metadata": {},
   "outputs": [
    {
     "name": "stdout",
     "output_type": "stream",
     "text": [
      "\n",
      "Total positive words are 71\n",
      "Positive words are: \n",
      "['happy', 'superior', 'improved', 'efficiency', 'strong', 'outstanding', 'achieve', 'stable', 'encouraging', 'strong', 'improvement', 'achieved', 'profitability', 'benefiting', 'stable', 'strong', 'strong', 'outperformed', 'highest', 'achieved', 'able', 'advantage', 'efficient', 'leading', 'success', 'superior', 'leading', 'gains', 'achieved', 'efficient', 'favorable', 'favorable', 'profitability', 'strong', 'benefit', 'stability', 'successfully', 'efficient', 'improve', 'enable', 'opportunity', 'happy', 'profitability', 'leadership', 'delighted', 'achievements', 'achieved', 'strong', 'highest', 'innovations', 'strong', 'unmatched', 'superior', 'success', 'strong', 'highest', 'strong', 'strong', 'enhance', 'successfully', 'better', 'innovative', 'successfully', 'improvement', 'improving', 'improve', 'efficiency', 'positively', 'greatly', 'strengthening', 'unparalleled']\n",
      "\n",
      "Total negative words are 17\n",
      "Negative words are: \n",
      "['difficult', 'tightening', 'force', 'lagged', 'against', 'downwards', 'decline', 'sharply', 'volatile', 'deficit', 'weak', 'declining', 'weak', 'volatility', 'refinanced', 'disaster', 'vulnerable']\n"
     ]
    }
   ],
   "source": [
    "lm_neg2 = open(\"LM_neg_words.txt\").read().lower()\n",
    "lm_pos2 = open(\"LM_pos_words.txt\").read().lower()\n",
    "\n",
    "li_neg2 = lm_neg2.split('\\n')\n",
    "li_pos2 = lm_pos2.split('\\n')\n",
    "\n",
    "checking2 = {}\n",
    "checking2['positive'] = li_pos2\n",
    "checking2['negative'] = li_neg2\n",
    "\n",
    "result_pos2 = []\n",
    "result_neg2 = []\n",
    "for word in final_tokens2:\n",
    "    if word in checking2['positive']:\n",
    "        result_pos2.append(word)\n",
    "    elif word in checking2['negative']:\n",
    "        result_neg2.append(word)\n",
    "\n",
    "\n",
    "print()\n",
    "print(\"Total positive words are {0}\".format(len(result_pos2)))\n",
    "print('Positive words are: ')\n",
    "print(result_pos2)\n",
    "print()\n",
    "print(\"Total negative words are {0}\".format(len(result_neg2)))\n",
    "print('Negative words are: ')\n",
    "print(result_neg2)"
   ]
  },
  {
   "cell_type": "code",
   "execution_count": 13,
   "metadata": {},
   "outputs": [
    {
     "name": "stdout",
     "output_type": "stream",
     "text": [
      "\n",
      "Reliance's total sentiment in 2016-17 was : 0.03161592505854801\n"
     ]
    }
   ],
   "source": [
    "'''\n",
    "Calculating\n",
    "(positive words - negative words)/total words\n",
    "'''\n",
    "\n",
    "pos2 = len(result_pos2)\n",
    "neg2 = len(result_neg2)\n",
    "\n",
    "sentiment2 = (pos2-neg2)/total_tokens2\n",
    "print()\n",
    "print(\"Reliance's total sentiment in 2016-17 was : {0}\".format(sentiment2))"
   ]
  },
  {
   "cell_type": "markdown",
   "metadata": {},
   "source": [
    "### 2017-18"
   ]
  },
  {
   "cell_type": "code",
   "execution_count": 14,
   "metadata": {},
   "outputs": [
    {
     "name": "stdout",
     "output_type": "stream",
     "text": [
      "Total words in the Reliance 2017-18 report are 2934\n"
     ]
    }
   ],
   "source": [
    "'''\n",
    "Reliance 2017-18\n",
    "'''\n",
    "with open (\"ril_2017_18.txt\", encoding=\"utf8\", errors='ignore') as f3:\n",
    "    tokens_old = nltk.word_tokenize(f3.read())\n",
    "    \n",
    "no_digit3 = re.compile('.*[A-Za-z].*')\n",
    "tokens3 = [w for w in tokens_old if no_digit3.match(w)]\n",
    "tokens3 = list(map(lambda x: x.lower(),tokens3))\n",
    "print(\"Total words in the Reliance 2017-18 report are {0}\".format(len(tokens3)))"
   ]
  },
  {
   "cell_type": "code",
   "execution_count": 15,
   "metadata": {},
   "outputs": [
    {
     "name": "stdout",
     "output_type": "stream",
     "text": [
      "Stop words are ['the', 'and', 'to', 'of', 'in', 'for', 'a', 'with', 'our', 'we']\n"
     ]
    }
   ],
   "source": [
    "fdist = nltk.FreqDist(tokens3)\n",
    "stop3 = []\n",
    "for word, frequency in fdist.most_common(10):\n",
    "    stop3.append(word)\n",
    "print(\"Stop words are {0}\".format(stop3))"
   ]
  },
  {
   "cell_type": "code",
   "execution_count": 16,
   "metadata": {},
   "outputs": [
    {
     "name": "stdout",
     "output_type": "stream",
     "text": [
      "720\n"
     ]
    }
   ],
   "source": [
    "count = 0\n",
    "for word in tokens3:\n",
    "    if word in stop3:\n",
    "        count += 1\n",
    "print(count)"
   ]
  },
  {
   "cell_type": "code",
   "execution_count": 17,
   "metadata": {},
   "outputs": [],
   "source": [
    "'''\n",
    "The stopwords do not have 'no', 'not' and 'never' in them\n",
    "So, directly removing these words in the next step\n",
    "'''\n",
    "final_tokens3 = [x for x in tokens3 if x not in stop3]\n",
    "total_tokens3 = len(final_tokens3)"
   ]
  },
  {
   "cell_type": "code",
   "execution_count": 18,
   "metadata": {},
   "outputs": [
    {
     "name": "stdout",
     "output_type": "stream",
     "text": [
      "\n",
      "Total positive words are 85\n",
      "Positive words are: \n",
      "['happy', 'outstanding', 'achieved', 'leadership', 'profitable', 'successfully', 'innovative', 'achieving', 'spectacular', 'achievements', 'upturn', 'strengthen', 'stronger', 'rebound', 'gains', 'upturn', 'strong', 'strong', 'rebounded', 'positive', 'improved', 'achieving', 'attain', 'achieved', 'profitability', 'improved', 'improved', 'strong', 'better', 'strong', 'highest', 'outperformed', 'strong', 'highest', 'improve', 'efficiency', 'improve', 'enabling', 'benefit', 'boost', 'profitability', 'improving', 'better', 'benefitted', 'highest', 'successfully', 'improved', 'enhanced', 'strengthened', 'enabled', 'improved', 'despite', 'progressed', 'perfect', 'better', 'improved', 'positive', 'profitable', 'strong', 'achieve', 'innovative', 'collaboration', 'better', 'popular', 'progress', 'innovative', 'profitability', 'superior', 'enhance', 'strong', 'innovative', 'strong', 'efficient', 'improvement', 'achieved', 'better', 'better', 'empower', 'enhance', 'collaboration', 'positively', 'better', 'strong', 'innovation', 'better']\n",
      "\n",
      "Total negative words are 15\n",
      "Negative words are: \n",
      "['volatility', 'concern', 'lagging', 'unplanned', 'outages', 'sharply', 'sharply', 'declining', 'decline', 'slowdown', 'challenging', 'deepening', 'problems', 'disaster', 'crucial']\n"
     ]
    }
   ],
   "source": [
    "lm_neg3 = open(\"LM_neg_words.txt\").read().lower()\n",
    "lm_pos3 = open(\"LM_pos_words.txt\").read().lower()\n",
    "\n",
    "li_neg3 = lm_neg3.split('\\n')\n",
    "li_pos3 = lm_pos3.split('\\n')\n",
    "\n",
    "checking3 = {}\n",
    "checking3['positive'] = li_pos3\n",
    "checking3['negative'] = li_neg3\n",
    "\n",
    "result_pos3 = []\n",
    "result_neg3 = []\n",
    "for word in final_tokens3:\n",
    "    if word in checking3['positive']:\n",
    "        result_pos3.append(word)\n",
    "    elif word in checking3['negative']:\n",
    "        result_neg3.append(word)\n",
    "\n",
    "\n",
    "print()\n",
    "print(\"Total positive words are {0}\".format(len(result_pos3)))\n",
    "print('Positive words are: ')\n",
    "print(result_pos3)\n",
    "print()\n",
    "print(\"Total negative words are {0}\".format(len(result_neg3)))\n",
    "print('Negative words are: ')\n",
    "print(result_neg3)"
   ]
  },
  {
   "cell_type": "code",
   "execution_count": 19,
   "metadata": {},
   "outputs": [
    {
     "name": "stdout",
     "output_type": "stream",
     "text": [
      "\n",
      "Reliance's total sentiment in 2017-18 was : 0.031616982836495035\n"
     ]
    }
   ],
   "source": [
    "'''\n",
    "Calculating\n",
    "(positive words - negative words)/total words\n",
    "'''\n",
    "\n",
    "pos3 = len(result_pos3)\n",
    "neg3 = len(result_neg3)\n",
    "\n",
    "sentiment3 = (pos3-neg3)/total_tokens3\n",
    "print()\n",
    "print(\"Reliance's total sentiment in 2017-18 was : {0}\".format(sentiment3))"
   ]
  }
 ],
 "metadata": {
  "kernelspec": {
   "display_name": "Python 3",
   "language": "python",
   "name": "python3"
  },
  "language_info": {
   "codemirror_mode": {
    "name": "ipython",
    "version": 3
   },
   "file_extension": ".py",
   "mimetype": "text/x-python",
   "name": "python",
   "nbconvert_exporter": "python",
   "pygments_lexer": "ipython3",
   "version": "3.8.3"
  }
 },
 "nbformat": 4,
 "nbformat_minor": 2
}
